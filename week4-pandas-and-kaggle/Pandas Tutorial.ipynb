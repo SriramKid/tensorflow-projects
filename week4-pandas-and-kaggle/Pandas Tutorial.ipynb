{
 "cells": [
  {
   "cell_type": "markdown",
   "metadata": {},
   "source": [
    "# Introduction to Pandas"
   ]
  },
  {
   "cell_type": "markdown",
   "metadata": {},
   "source": [
    "Pandas (in addition to Numpy) is the go-to Python library for all your data science needs. It helps with dealing with input data in CSV formats and with transforming your data into a form where it can be inputted into ML models."
   ]
  },
  {
   "cell_type": "code",
   "execution_count": 2,
   "metadata": {
    "collapsed": true
   },
   "outputs": [],
   "source": [
    "import pandas as pd"
   ]
  },
  {
   "cell_type": "markdown",
   "metadata": {},
   "source": [
    "# Loading in Data"
   ]
  },
  {
   "cell_type": "markdown",
   "metadata": {},
   "source": [
    "The first step in any ML problem is identifying what format your data is in, and then loading it into whatever framework you're using. For Kaggle compeitions, a lot of data can be found in CSV files, so that's the example we're going to use. "
   ]
  },
  {
   "cell_type": "markdown",
   "metadata": {},
   "source": [
    "We're going to be looking at a sports dataset that shows the results from NCAA basketball games from 1985 to 2016. This dataset is in a CSV file, and the function we're going to use to read in the file is called **pd.read_csv()**. This function returns a **dataframe** variable. The dataframe is the golden jewel data structure for Pandas. It is defined as \"a two-dimensional size-mutable, potentially heterogeneous tabular data structure with labeled axes (rows and columns)\"."
   ]
  },
  {
   "cell_type": "code",
   "execution_count": 3,
   "metadata": {},
   "outputs": [],
   "source": [
    "df = pd.read_csv('RegularSeasonCompactResults.csv')"
   ]
  },
  {
   "cell_type": "markdown",
   "metadata": {},
   "source": [
    "# The Basics"
   ]
  },
  {
   "cell_type": "markdown",
   "metadata": {},
   "source": [
    "Now that we have our dataframe in our variable df, let's look at what it contains. We can use the function **head()** to see the first couple rows of the dataframe (or the function **tail()** to see the last few rows)."
   ]
  },
  {
   "cell_type": "code",
   "execution_count": 4,
   "metadata": {},
   "outputs": [
    {
     "data": {
      "text/html": [
       "<div>\n",
       "<style>\n",
       "    .dataframe thead tr:only-child th {\n",
       "        text-align: right;\n",
       "    }\n",
       "\n",
       "    .dataframe thead th {\n",
       "        text-align: left;\n",
       "    }\n",
       "\n",
       "    .dataframe tbody tr th {\n",
       "        vertical-align: top;\n",
       "    }\n",
       "</style>\n",
       "<table border=\"1\" class=\"dataframe\">\n",
       "  <thead>\n",
       "    <tr style=\"text-align: right;\">\n",
       "      <th></th>\n",
       "      <th>Season</th>\n",
       "      <th>Daynum</th>\n",
       "      <th>Wteam</th>\n",
       "      <th>Wscore</th>\n",
       "      <th>Lteam</th>\n",
       "      <th>Lscore</th>\n",
       "      <th>Wloc</th>\n",
       "      <th>Numot</th>\n",
       "    </tr>\n",
       "  </thead>\n",
       "  <tbody>\n",
       "    <tr>\n",
       "      <th>0</th>\n",
       "      <td>1985</td>\n",
       "      <td>20</td>\n",
       "      <td>1228</td>\n",
       "      <td>81</td>\n",
       "      <td>1328</td>\n",
       "      <td>64</td>\n",
       "      <td>N</td>\n",
       "      <td>0</td>\n",
       "    </tr>\n",
       "    <tr>\n",
       "      <th>1</th>\n",
       "      <td>1985</td>\n",
       "      <td>25</td>\n",
       "      <td>1106</td>\n",
       "      <td>77</td>\n",
       "      <td>1354</td>\n",
       "      <td>70</td>\n",
       "      <td>H</td>\n",
       "      <td>0</td>\n",
       "    </tr>\n",
       "    <tr>\n",
       "      <th>2</th>\n",
       "      <td>1985</td>\n",
       "      <td>25</td>\n",
       "      <td>1112</td>\n",
       "      <td>63</td>\n",
       "      <td>1223</td>\n",
       "      <td>56</td>\n",
       "      <td>H</td>\n",
       "      <td>0</td>\n",
       "    </tr>\n",
       "    <tr>\n",
       "      <th>3</th>\n",
       "      <td>1985</td>\n",
       "      <td>25</td>\n",
       "      <td>1165</td>\n",
       "      <td>70</td>\n",
       "      <td>1432</td>\n",
       "      <td>54</td>\n",
       "      <td>H</td>\n",
       "      <td>0</td>\n",
       "    </tr>\n",
       "    <tr>\n",
       "      <th>4</th>\n",
       "      <td>1985</td>\n",
       "      <td>25</td>\n",
       "      <td>1192</td>\n",
       "      <td>86</td>\n",
       "      <td>1447</td>\n",
       "      <td>74</td>\n",
       "      <td>H</td>\n",
       "      <td>0</td>\n",
       "    </tr>\n",
       "  </tbody>\n",
       "</table>\n",
       "</div>"
      ],
      "text/plain": [
       "   Season  Daynum  Wteam  Wscore  Lteam  Lscore Wloc  Numot\n",
       "0    1985      20   1228      81   1328      64    N      0\n",
       "1    1985      25   1106      77   1354      70    H      0\n",
       "2    1985      25   1112      63   1223      56    H      0\n",
       "3    1985      25   1165      70   1432      54    H      0\n",
       "4    1985      25   1192      86   1447      74    H      0"
      ]
     },
     "execution_count": 4,
     "metadata": {},
     "output_type": "execute_result"
    }
   ],
   "source": [
    "df.head()"
   ]
  },
  {
   "cell_type": "code",
   "execution_count": 5,
   "metadata": {},
   "outputs": [
    {
     "data": {
      "text/html": [
       "<div>\n",
       "<style>\n",
       "    .dataframe thead tr:only-child th {\n",
       "        text-align: right;\n",
       "    }\n",
       "\n",
       "    .dataframe thead th {\n",
       "        text-align: left;\n",
       "    }\n",
       "\n",
       "    .dataframe tbody tr th {\n",
       "        vertical-align: top;\n",
       "    }\n",
       "</style>\n",
       "<table border=\"1\" class=\"dataframe\">\n",
       "  <thead>\n",
       "    <tr style=\"text-align: right;\">\n",
       "      <th></th>\n",
       "      <th>Season</th>\n",
       "      <th>Daynum</th>\n",
       "      <th>Wteam</th>\n",
       "      <th>Wscore</th>\n",
       "      <th>Lteam</th>\n",
       "      <th>Lscore</th>\n",
       "      <th>Wloc</th>\n",
       "      <th>Numot</th>\n",
       "    </tr>\n",
       "  </thead>\n",
       "  <tbody>\n",
       "    <tr>\n",
       "      <th>145284</th>\n",
       "      <td>2016</td>\n",
       "      <td>132</td>\n",
       "      <td>1114</td>\n",
       "      <td>70</td>\n",
       "      <td>1419</td>\n",
       "      <td>50</td>\n",
       "      <td>N</td>\n",
       "      <td>0</td>\n",
       "    </tr>\n",
       "    <tr>\n",
       "      <th>145285</th>\n",
       "      <td>2016</td>\n",
       "      <td>132</td>\n",
       "      <td>1163</td>\n",
       "      <td>72</td>\n",
       "      <td>1272</td>\n",
       "      <td>58</td>\n",
       "      <td>N</td>\n",
       "      <td>0</td>\n",
       "    </tr>\n",
       "    <tr>\n",
       "      <th>145286</th>\n",
       "      <td>2016</td>\n",
       "      <td>132</td>\n",
       "      <td>1246</td>\n",
       "      <td>82</td>\n",
       "      <td>1401</td>\n",
       "      <td>77</td>\n",
       "      <td>N</td>\n",
       "      <td>1</td>\n",
       "    </tr>\n",
       "    <tr>\n",
       "      <th>145287</th>\n",
       "      <td>2016</td>\n",
       "      <td>132</td>\n",
       "      <td>1277</td>\n",
       "      <td>66</td>\n",
       "      <td>1345</td>\n",
       "      <td>62</td>\n",
       "      <td>N</td>\n",
       "      <td>0</td>\n",
       "    </tr>\n",
       "    <tr>\n",
       "      <th>145288</th>\n",
       "      <td>2016</td>\n",
       "      <td>132</td>\n",
       "      <td>1386</td>\n",
       "      <td>87</td>\n",
       "      <td>1433</td>\n",
       "      <td>74</td>\n",
       "      <td>N</td>\n",
       "      <td>0</td>\n",
       "    </tr>\n",
       "  </tbody>\n",
       "</table>\n",
       "</div>"
      ],
      "text/plain": [
       "        Season  Daynum  Wteam  Wscore  Lteam  Lscore Wloc  Numot\n",
       "145284    2016     132   1114      70   1419      50    N      0\n",
       "145285    2016     132   1163      72   1272      58    N      0\n",
       "145286    2016     132   1246      82   1401      77    N      1\n",
       "145287    2016     132   1277      66   1345      62    N      0\n",
       "145288    2016     132   1386      87   1433      74    N      0"
      ]
     },
     "execution_count": 5,
     "metadata": {},
     "output_type": "execute_result"
    }
   ],
   "source": [
    "df.tail()"
   ]
  },
  {
   "cell_type": "markdown",
   "metadata": {},
   "source": [
    "We can see the dimensions of the dataframe using the the **shape** attribute"
   ]
  },
  {
   "cell_type": "code",
   "execution_count": 6,
   "metadata": {},
   "outputs": [
    {
     "data": {
      "text/plain": [
       "(145289, 8)"
      ]
     },
     "execution_count": 6,
     "metadata": {},
     "output_type": "execute_result"
    }
   ],
   "source": [
    "df.shape"
   ]
  },
  {
   "cell_type": "markdown",
   "metadata": {
    "collapsed": true
   },
   "source": [
    "We can also extract all the column names as a list, by using the **columns** attribute and can extract the rows with the **index** attribute"
   ]
  },
  {
   "cell_type": "code",
   "execution_count": 9,
   "metadata": {},
   "outputs": [
    {
     "data": {
      "text/plain": [
       "['Season', 'Daynum', 'Wteam', 'Wscore', 'Lteam', 'Lscore', 'Wloc', 'Numot']"
      ]
     },
     "execution_count": 9,
     "metadata": {},
     "output_type": "execute_result"
    }
   ],
   "source": [
    "df.columns.tolist()"
   ]
  },
  {
   "cell_type": "markdown",
   "metadata": {},
   "source": [
    "In order to get a better idea of the type of data that we are dealing with, we can call the **describe()** function to see statistics like mean, min, etc about each column of the dataset. "
   ]
  },
  {
   "cell_type": "code",
   "execution_count": 10,
   "metadata": {},
   "outputs": [
    {
     "data": {
      "text/html": [
       "<div>\n",
       "<style>\n",
       "    .dataframe thead tr:only-child th {\n",
       "        text-align: right;\n",
       "    }\n",
       "\n",
       "    .dataframe thead th {\n",
       "        text-align: left;\n",
       "    }\n",
       "\n",
       "    .dataframe tbody tr th {\n",
       "        vertical-align: top;\n",
       "    }\n",
       "</style>\n",
       "<table border=\"1\" class=\"dataframe\">\n",
       "  <thead>\n",
       "    <tr style=\"text-align: right;\">\n",
       "      <th></th>\n",
       "      <th>Season</th>\n",
       "      <th>Daynum</th>\n",
       "      <th>Wteam</th>\n",
       "      <th>Wscore</th>\n",
       "      <th>Lteam</th>\n",
       "      <th>Lscore</th>\n",
       "      <th>Numot</th>\n",
       "    </tr>\n",
       "  </thead>\n",
       "  <tbody>\n",
       "    <tr>\n",
       "      <th>count</th>\n",
       "      <td>145289.000000</td>\n",
       "      <td>145289.000000</td>\n",
       "      <td>145289.000000</td>\n",
       "      <td>145289.000000</td>\n",
       "      <td>145289.000000</td>\n",
       "      <td>145289.000000</td>\n",
       "      <td>145289.000000</td>\n",
       "    </tr>\n",
       "    <tr>\n",
       "      <th>mean</th>\n",
       "      <td>2001.574834</td>\n",
       "      <td>75.223816</td>\n",
       "      <td>1286.720646</td>\n",
       "      <td>76.600321</td>\n",
       "      <td>1282.864064</td>\n",
       "      <td>64.497009</td>\n",
       "      <td>0.044387</td>\n",
       "    </tr>\n",
       "    <tr>\n",
       "      <th>std</th>\n",
       "      <td>9.233342</td>\n",
       "      <td>33.287418</td>\n",
       "      <td>104.570275</td>\n",
       "      <td>12.173033</td>\n",
       "      <td>104.829234</td>\n",
       "      <td>11.380625</td>\n",
       "      <td>0.247819</td>\n",
       "    </tr>\n",
       "    <tr>\n",
       "      <th>min</th>\n",
       "      <td>1985.000000</td>\n",
       "      <td>0.000000</td>\n",
       "      <td>1101.000000</td>\n",
       "      <td>34.000000</td>\n",
       "      <td>1101.000000</td>\n",
       "      <td>20.000000</td>\n",
       "      <td>0.000000</td>\n",
       "    </tr>\n",
       "    <tr>\n",
       "      <th>25%</th>\n",
       "      <td>1994.000000</td>\n",
       "      <td>47.000000</td>\n",
       "      <td>1198.000000</td>\n",
       "      <td>68.000000</td>\n",
       "      <td>1191.000000</td>\n",
       "      <td>57.000000</td>\n",
       "      <td>0.000000</td>\n",
       "    </tr>\n",
       "    <tr>\n",
       "      <th>50%</th>\n",
       "      <td>2002.000000</td>\n",
       "      <td>78.000000</td>\n",
       "      <td>1284.000000</td>\n",
       "      <td>76.000000</td>\n",
       "      <td>1280.000000</td>\n",
       "      <td>64.000000</td>\n",
       "      <td>0.000000</td>\n",
       "    </tr>\n",
       "    <tr>\n",
       "      <th>75%</th>\n",
       "      <td>2010.000000</td>\n",
       "      <td>103.000000</td>\n",
       "      <td>1379.000000</td>\n",
       "      <td>84.000000</td>\n",
       "      <td>1375.000000</td>\n",
       "      <td>72.000000</td>\n",
       "      <td>0.000000</td>\n",
       "    </tr>\n",
       "    <tr>\n",
       "      <th>max</th>\n",
       "      <td>2016.000000</td>\n",
       "      <td>132.000000</td>\n",
       "      <td>1464.000000</td>\n",
       "      <td>186.000000</td>\n",
       "      <td>1464.000000</td>\n",
       "      <td>150.000000</td>\n",
       "      <td>6.000000</td>\n",
       "    </tr>\n",
       "  </tbody>\n",
       "</table>\n",
       "</div>"
      ],
      "text/plain": [
       "              Season         Daynum          Wteam         Wscore  \\\n",
       "count  145289.000000  145289.000000  145289.000000  145289.000000   \n",
       "mean     2001.574834      75.223816    1286.720646      76.600321   \n",
       "std         9.233342      33.287418     104.570275      12.173033   \n",
       "min      1985.000000       0.000000    1101.000000      34.000000   \n",
       "25%      1994.000000      47.000000    1198.000000      68.000000   \n",
       "50%      2002.000000      78.000000    1284.000000      76.000000   \n",
       "75%      2010.000000     103.000000    1379.000000      84.000000   \n",
       "max      2016.000000     132.000000    1464.000000     186.000000   \n",
       "\n",
       "               Lteam         Lscore          Numot  \n",
       "count  145289.000000  145289.000000  145289.000000  \n",
       "mean     1282.864064      64.497009       0.044387  \n",
       "std       104.829234      11.380625       0.247819  \n",
       "min      1101.000000      20.000000       0.000000  \n",
       "25%      1191.000000      57.000000       0.000000  \n",
       "50%      1280.000000      64.000000       0.000000  \n",
       "75%      1375.000000      72.000000       0.000000  \n",
       "max      1464.000000     150.000000       6.000000  "
      ]
     },
     "execution_count": 10,
     "metadata": {},
     "output_type": "execute_result"
    }
   ],
   "source": [
    "df.describe()"
   ]
  },
  {
   "cell_type": "markdown",
   "metadata": {},
   "source": [
    "Okay, so now let's looking at information that we want to extract from the dataframe. Let's say I wanted to know the max value of a certain column. The function **max()** will show you the maximum values of all columns"
   ]
  },
  {
   "cell_type": "code",
   "execution_count": 11,
   "metadata": {},
   "outputs": [
    {
     "data": {
      "text/plain": [
       "Season    2016\n",
       "Daynum     132\n",
       "Wteam     1464\n",
       "Wscore     186\n",
       "Lteam     1464\n",
       "Lscore     150\n",
       "Wloc         N\n",
       "Numot        6\n",
       "dtype: object"
      ]
     },
     "execution_count": 11,
     "metadata": {},
     "output_type": "execute_result"
    }
   ],
   "source": [
    "df.max()"
   ]
  },
  {
   "cell_type": "markdown",
   "metadata": {},
   "source": [
    "Then, if you'd like to specifically get the max value for a particular column, you pass in the name of the column using the bracket indexing operator"
   ]
  },
  {
   "cell_type": "code",
   "execution_count": 12,
   "metadata": {},
   "outputs": [
    {
     "data": {
      "text/plain": [
       "186"
      ]
     },
     "execution_count": 12,
     "metadata": {},
     "output_type": "execute_result"
    }
   ],
   "source": [
    "df['Wscore'].max()"
   ]
  },
  {
   "cell_type": "markdown",
   "metadata": {},
   "source": [
    "If you'd like to find the mean of the Losing teams' score. "
   ]
  },
  {
   "cell_type": "code",
   "execution_count": 13,
   "metadata": {},
   "outputs": [
    {
     "data": {
      "text/plain": [
       "64.49700940883343"
      ]
     },
     "execution_count": 13,
     "metadata": {},
     "output_type": "execute_result"
    }
   ],
   "source": [
    "df['Lscore'].mean()"
   ]
  },
  {
   "cell_type": "markdown",
   "metadata": {},
   "source": [
    "One of the most useful functions that you can call on certain columns in a dataframe is the **value_counts()** function. It shows how many times each item appears in the column. This particular command shows the number of games in each season"
   ]
  },
  {
   "cell_type": "code",
   "execution_count": 14,
   "metadata": {},
   "outputs": [
    {
     "data": {
      "text/plain": [
       "2016    5369\n",
       "2014    5362\n",
       "2015    5354\n",
       "2013    5320\n",
       "2010    5263\n",
       "2012    5253\n",
       "2009    5249\n",
       "2011    5246\n",
       "2008    5163\n",
       "2007    5043\n",
       "2006    4757\n",
       "2005    4675\n",
       "2003    4616\n",
       "2004    4571\n",
       "2002    4555\n",
       "2000    4519\n",
       "2001    4467\n",
       "1999    4222\n",
       "1998    4167\n",
       "1997    4155\n",
       "1992    4127\n",
       "1991    4123\n",
       "1996    4122\n",
       "1995    4077\n",
       "1994    4060\n",
       "1990    4045\n",
       "1989    4037\n",
       "1993    3982\n",
       "1988    3955\n",
       "1987    3915\n",
       "1986    3783\n",
       "1985    3737\n",
       "Name: Season, dtype: int64"
      ]
     },
     "execution_count": 14,
     "metadata": {},
     "output_type": "execute_result"
    }
   ],
   "source": [
    "df['Season'].value_counts()"
   ]
  },
  {
   "cell_type": "markdown",
   "metadata": {},
   "source": [
    "# Acessing Values"
   ]
  },
  {
   "cell_type": "markdown",
   "metadata": {},
   "source": [
    "Then, in order to get attributes about the game, we need to use the **iloc[]** function. Iloc is definitely one of the more important functions. The main idea is that you want to use it whenever you have the integer index of a certain row that you want to access. As per Pandas documentation, iloc is an \"integer-location based indexing for selection by position.\""
   ]
  },
  {
   "cell_type": "code",
   "execution_count": 15,
   "metadata": {},
   "outputs": [
    {
     "data": {
      "text/html": [
       "<div>\n",
       "<style>\n",
       "    .dataframe thead tr:only-child th {\n",
       "        text-align: right;\n",
       "    }\n",
       "\n",
       "    .dataframe thead th {\n",
       "        text-align: left;\n",
       "    }\n",
       "\n",
       "    .dataframe tbody tr th {\n",
       "        vertical-align: top;\n",
       "    }\n",
       "</style>\n",
       "<table border=\"1\" class=\"dataframe\">\n",
       "  <thead>\n",
       "    <tr style=\"text-align: right;\">\n",
       "      <th></th>\n",
       "      <th>Season</th>\n",
       "      <th>Daynum</th>\n",
       "      <th>Wteam</th>\n",
       "      <th>Wscore</th>\n",
       "      <th>Lteam</th>\n",
       "      <th>Lscore</th>\n",
       "      <th>Wloc</th>\n",
       "      <th>Numot</th>\n",
       "    </tr>\n",
       "  </thead>\n",
       "  <tbody>\n",
       "    <tr>\n",
       "      <th>24970</th>\n",
       "      <td>1991</td>\n",
       "      <td>68</td>\n",
       "      <td>1258</td>\n",
       "      <td>186</td>\n",
       "      <td>1109</td>\n",
       "      <td>140</td>\n",
       "      <td>H</td>\n",
       "      <td>0</td>\n",
       "    </tr>\n",
       "  </tbody>\n",
       "</table>\n",
       "</div>"
      ],
      "text/plain": [
       "       Season  Daynum  Wteam  Wscore  Lteam  Lscore Wloc  Numot\n",
       "24970    1991      68   1258     186   1109     140    H      0"
      ]
     },
     "execution_count": 15,
     "metadata": {},
     "output_type": "execute_result"
    }
   ],
   "source": [
    "df.iloc[[df['Wscore'].argmax()]]"
   ]
  },
  {
   "cell_type": "markdown",
   "metadata": {},
   "source": [
    "Let's take this a step further. Let's say you want to know the game with the highest scoring winning team (this is what we just calculated), but you then want to know how many points the losing team scored. "
   ]
  },
  {
   "cell_type": "code",
   "execution_count": 16,
   "metadata": {},
   "outputs": [
    {
     "data": {
      "text/plain": [
       "24970    140\n",
       "Name: Lscore, dtype: int64"
      ]
     },
     "execution_count": 16,
     "metadata": {},
     "output_type": "execute_result"
    }
   ],
   "source": [
    "df.iloc[[df['Wscore'].argmax()]]['Lscore']"
   ]
  },
  {
   "cell_type": "markdown",
   "metadata": {},
   "source": [
    "When you see data displayed in the above format, you're dealing with a Pandas **Series** object, not a dataframe object."
   ]
  },
  {
   "cell_type": "code",
   "execution_count": 17,
   "metadata": {},
   "outputs": [
    {
     "data": {
      "text/plain": [
       "pandas.core.series.Series"
      ]
     },
     "execution_count": 17,
     "metadata": {},
     "output_type": "execute_result"
    }
   ],
   "source": [
    "type(df.iloc[[df['Wscore'].argmax()]]['Lscore'])"
   ]
  },
  {
   "cell_type": "code",
   "execution_count": 18,
   "metadata": {},
   "outputs": [
    {
     "data": {
      "text/plain": [
       "pandas.core.frame.DataFrame"
      ]
     },
     "execution_count": 18,
     "metadata": {},
     "output_type": "execute_result"
    }
   ],
   "source": [
    "type(df.iloc[[df['Wscore'].argmax()]])"
   ]
  },
  {
   "cell_type": "markdown",
   "metadata": {},
   "source": [
    "The following is a summary of the 3 data structures in Pandas (Haven't ever really used Panels yet)\n",
    "\n",
    "![](DataStructures.png)"
   ]
  },
  {
   "cell_type": "markdown",
   "metadata": {},
   "source": [
    "When you want to access values in a Series, you'll want to just treat the Series like a Python dictionary, so you'd access the value according to its key (which is normally an integer index)"
   ]
  },
  {
   "cell_type": "code",
   "execution_count": 19,
   "metadata": {},
   "outputs": [
    {
     "data": {
      "text/plain": [
       "140"
      ]
     },
     "execution_count": 19,
     "metadata": {},
     "output_type": "execute_result"
    }
   ],
   "source": [
    "df.iloc[[df['Wscore'].argmax()]]['Lscore'][24970]"
   ]
  },
  {
   "cell_type": "markdown",
   "metadata": {},
   "source": [
    "A faster version uses the **at()** function. At() is really useful wheneever you know the row label and the column label of the particular value that you want to get. "
   ]
  },
  {
   "cell_type": "code",
   "execution_count": 20,
   "metadata": {},
   "outputs": [
    {
     "data": {
      "text/plain": [
       "140"
      ]
     },
     "execution_count": 20,
     "metadata": {},
     "output_type": "execute_result"
    }
   ],
   "source": [
    "df.at[df['Wscore'].argmax(), 'Lscore']"
   ]
  },
  {
   "cell_type": "markdown",
   "metadata": {},
   "source": [
    "# Sorting"
   ]
  },
  {
   "cell_type": "markdown",
   "metadata": {},
   "source": [
    "Let's say that we want to sort the dataframe in increasing order for the scores of the losing team"
   ]
  },
  {
   "cell_type": "code",
   "execution_count": 21,
   "metadata": {
    "scrolled": true
   },
   "outputs": [
    {
     "data": {
      "text/html": [
       "<div>\n",
       "<style>\n",
       "    .dataframe thead tr:only-child th {\n",
       "        text-align: right;\n",
       "    }\n",
       "\n",
       "    .dataframe thead th {\n",
       "        text-align: left;\n",
       "    }\n",
       "\n",
       "    .dataframe tbody tr th {\n",
       "        vertical-align: top;\n",
       "    }\n",
       "</style>\n",
       "<table border=\"1\" class=\"dataframe\">\n",
       "  <thead>\n",
       "    <tr style=\"text-align: right;\">\n",
       "      <th></th>\n",
       "      <th>Season</th>\n",
       "      <th>Daynum</th>\n",
       "      <th>Wteam</th>\n",
       "      <th>Wscore</th>\n",
       "      <th>Lteam</th>\n",
       "      <th>Lscore</th>\n",
       "      <th>Wloc</th>\n",
       "      <th>Numot</th>\n",
       "    </tr>\n",
       "  </thead>\n",
       "  <tbody>\n",
       "    <tr>\n",
       "      <th>100027</th>\n",
       "      <td>2008</td>\n",
       "      <td>66</td>\n",
       "      <td>1203</td>\n",
       "      <td>49</td>\n",
       "      <td>1387</td>\n",
       "      <td>20</td>\n",
       "      <td>H</td>\n",
       "      <td>0</td>\n",
       "    </tr>\n",
       "    <tr>\n",
       "      <th>49310</th>\n",
       "      <td>1997</td>\n",
       "      <td>66</td>\n",
       "      <td>1157</td>\n",
       "      <td>61</td>\n",
       "      <td>1204</td>\n",
       "      <td>21</td>\n",
       "      <td>H</td>\n",
       "      <td>0</td>\n",
       "    </tr>\n",
       "    <tr>\n",
       "      <th>89021</th>\n",
       "      <td>2006</td>\n",
       "      <td>44</td>\n",
       "      <td>1284</td>\n",
       "      <td>41</td>\n",
       "      <td>1343</td>\n",
       "      <td>21</td>\n",
       "      <td>A</td>\n",
       "      <td>0</td>\n",
       "    </tr>\n",
       "    <tr>\n",
       "      <th>85042</th>\n",
       "      <td>2005</td>\n",
       "      <td>66</td>\n",
       "      <td>1131</td>\n",
       "      <td>73</td>\n",
       "      <td>1216</td>\n",
       "      <td>22</td>\n",
       "      <td>H</td>\n",
       "      <td>0</td>\n",
       "    </tr>\n",
       "    <tr>\n",
       "      <th>103660</th>\n",
       "      <td>2009</td>\n",
       "      <td>26</td>\n",
       "      <td>1326</td>\n",
       "      <td>59</td>\n",
       "      <td>1359</td>\n",
       "      <td>22</td>\n",
       "      <td>H</td>\n",
       "      <td>0</td>\n",
       "    </tr>\n",
       "  </tbody>\n",
       "</table>\n",
       "</div>"
      ],
      "text/plain": [
       "        Season  Daynum  Wteam  Wscore  Lteam  Lscore Wloc  Numot\n",
       "100027    2008      66   1203      49   1387      20    H      0\n",
       "49310     1997      66   1157      61   1204      21    H      0\n",
       "89021     2006      44   1284      41   1343      21    A      0\n",
       "85042     2005      66   1131      73   1216      22    H      0\n",
       "103660    2009      26   1326      59   1359      22    H      0"
      ]
     },
     "execution_count": 21,
     "metadata": {},
     "output_type": "execute_result"
    }
   ],
   "source": [
    "df.sort_values('Lscore').head()"
   ]
  },
  {
   "cell_type": "markdown",
   "metadata": {},
   "source": [
    "# Filtering Rows Conditionally"
   ]
  },
  {
   "cell_type": "markdown",
   "metadata": {},
   "source": [
    "Now, let's say we want to find all of the rows that satisy a particular condition. For example, I want to find all of the games where the winning team scored more than 150 points. The idea behind this command is you want to access the column 'Wscore' of the dataframe df (df['Wscore']), find which entries are above 150 (df['Wscore'] > 150), and then returns only those specific rows in a dataframe format (df[df['Wscore'] > 150])."
   ]
  },
  {
   "cell_type": "code",
   "execution_count": 22,
   "metadata": {},
   "outputs": [
    {
     "data": {
      "text/html": [
       "<div>\n",
       "<style>\n",
       "    .dataframe thead tr:only-child th {\n",
       "        text-align: right;\n",
       "    }\n",
       "\n",
       "    .dataframe thead th {\n",
       "        text-align: left;\n",
       "    }\n",
       "\n",
       "    .dataframe tbody tr th {\n",
       "        vertical-align: top;\n",
       "    }\n",
       "</style>\n",
       "<table border=\"1\" class=\"dataframe\">\n",
       "  <thead>\n",
       "    <tr style=\"text-align: right;\">\n",
       "      <th></th>\n",
       "      <th>Season</th>\n",
       "      <th>Daynum</th>\n",
       "      <th>Wteam</th>\n",
       "      <th>Wscore</th>\n",
       "      <th>Lteam</th>\n",
       "      <th>Lscore</th>\n",
       "      <th>Wloc</th>\n",
       "      <th>Numot</th>\n",
       "    </tr>\n",
       "  </thead>\n",
       "  <tbody>\n",
       "    <tr>\n",
       "      <th>5269</th>\n",
       "      <td>1986</td>\n",
       "      <td>75</td>\n",
       "      <td>1258</td>\n",
       "      <td>151</td>\n",
       "      <td>1109</td>\n",
       "      <td>107</td>\n",
       "      <td>H</td>\n",
       "      <td>0</td>\n",
       "    </tr>\n",
       "    <tr>\n",
       "      <th>12046</th>\n",
       "      <td>1988</td>\n",
       "      <td>40</td>\n",
       "      <td>1328</td>\n",
       "      <td>152</td>\n",
       "      <td>1147</td>\n",
       "      <td>84</td>\n",
       "      <td>H</td>\n",
       "      <td>0</td>\n",
       "    </tr>\n",
       "    <tr>\n",
       "      <th>12355</th>\n",
       "      <td>1988</td>\n",
       "      <td>52</td>\n",
       "      <td>1328</td>\n",
       "      <td>151</td>\n",
       "      <td>1173</td>\n",
       "      <td>99</td>\n",
       "      <td>N</td>\n",
       "      <td>0</td>\n",
       "    </tr>\n",
       "    <tr>\n",
       "      <th>16040</th>\n",
       "      <td>1989</td>\n",
       "      <td>40</td>\n",
       "      <td>1328</td>\n",
       "      <td>152</td>\n",
       "      <td>1331</td>\n",
       "      <td>122</td>\n",
       "      <td>H</td>\n",
       "      <td>0</td>\n",
       "    </tr>\n",
       "    <tr>\n",
       "      <th>16853</th>\n",
       "      <td>1989</td>\n",
       "      <td>68</td>\n",
       "      <td>1258</td>\n",
       "      <td>162</td>\n",
       "      <td>1109</td>\n",
       "      <td>144</td>\n",
       "      <td>A</td>\n",
       "      <td>0</td>\n",
       "    </tr>\n",
       "    <tr>\n",
       "      <th>17867</th>\n",
       "      <td>1989</td>\n",
       "      <td>92</td>\n",
       "      <td>1258</td>\n",
       "      <td>181</td>\n",
       "      <td>1109</td>\n",
       "      <td>150</td>\n",
       "      <td>H</td>\n",
       "      <td>0</td>\n",
       "    </tr>\n",
       "    <tr>\n",
       "      <th>19653</th>\n",
       "      <td>1990</td>\n",
       "      <td>30</td>\n",
       "      <td>1328</td>\n",
       "      <td>173</td>\n",
       "      <td>1109</td>\n",
       "      <td>101</td>\n",
       "      <td>H</td>\n",
       "      <td>0</td>\n",
       "    </tr>\n",
       "    <tr>\n",
       "      <th>19971</th>\n",
       "      <td>1990</td>\n",
       "      <td>38</td>\n",
       "      <td>1258</td>\n",
       "      <td>152</td>\n",
       "      <td>1109</td>\n",
       "      <td>137</td>\n",
       "      <td>A</td>\n",
       "      <td>0</td>\n",
       "    </tr>\n",
       "    <tr>\n",
       "      <th>20022</th>\n",
       "      <td>1990</td>\n",
       "      <td>40</td>\n",
       "      <td>1116</td>\n",
       "      <td>166</td>\n",
       "      <td>1109</td>\n",
       "      <td>101</td>\n",
       "      <td>H</td>\n",
       "      <td>0</td>\n",
       "    </tr>\n",
       "    <tr>\n",
       "      <th>22145</th>\n",
       "      <td>1990</td>\n",
       "      <td>97</td>\n",
       "      <td>1258</td>\n",
       "      <td>157</td>\n",
       "      <td>1362</td>\n",
       "      <td>115</td>\n",
       "      <td>H</td>\n",
       "      <td>0</td>\n",
       "    </tr>\n",
       "    <tr>\n",
       "      <th>23582</th>\n",
       "      <td>1991</td>\n",
       "      <td>26</td>\n",
       "      <td>1318</td>\n",
       "      <td>152</td>\n",
       "      <td>1258</td>\n",
       "      <td>123</td>\n",
       "      <td>N</td>\n",
       "      <td>0</td>\n",
       "    </tr>\n",
       "    <tr>\n",
       "      <th>24341</th>\n",
       "      <td>1991</td>\n",
       "      <td>47</td>\n",
       "      <td>1328</td>\n",
       "      <td>172</td>\n",
       "      <td>1258</td>\n",
       "      <td>112</td>\n",
       "      <td>H</td>\n",
       "      <td>0</td>\n",
       "    </tr>\n",
       "    <tr>\n",
       "      <th>24970</th>\n",
       "      <td>1991</td>\n",
       "      <td>68</td>\n",
       "      <td>1258</td>\n",
       "      <td>186</td>\n",
       "      <td>1109</td>\n",
       "      <td>140</td>\n",
       "      <td>H</td>\n",
       "      <td>0</td>\n",
       "    </tr>\n",
       "    <tr>\n",
       "      <th>25656</th>\n",
       "      <td>1991</td>\n",
       "      <td>84</td>\n",
       "      <td>1106</td>\n",
       "      <td>151</td>\n",
       "      <td>1212</td>\n",
       "      <td>97</td>\n",
       "      <td>H</td>\n",
       "      <td>0</td>\n",
       "    </tr>\n",
       "    <tr>\n",
       "      <th>28687</th>\n",
       "      <td>1992</td>\n",
       "      <td>54</td>\n",
       "      <td>1261</td>\n",
       "      <td>159</td>\n",
       "      <td>1319</td>\n",
       "      <td>86</td>\n",
       "      <td>H</td>\n",
       "      <td>0</td>\n",
       "    </tr>\n",
       "    <tr>\n",
       "      <th>35023</th>\n",
       "      <td>1993</td>\n",
       "      <td>112</td>\n",
       "      <td>1380</td>\n",
       "      <td>155</td>\n",
       "      <td>1341</td>\n",
       "      <td>91</td>\n",
       "      <td>A</td>\n",
       "      <td>0</td>\n",
       "    </tr>\n",
       "    <tr>\n",
       "      <th>40060</th>\n",
       "      <td>1995</td>\n",
       "      <td>32</td>\n",
       "      <td>1375</td>\n",
       "      <td>156</td>\n",
       "      <td>1341</td>\n",
       "      <td>114</td>\n",
       "      <td>H</td>\n",
       "      <td>0</td>\n",
       "    </tr>\n",
       "    <tr>\n",
       "      <th>52600</th>\n",
       "      <td>1998</td>\n",
       "      <td>33</td>\n",
       "      <td>1395</td>\n",
       "      <td>153</td>\n",
       "      <td>1410</td>\n",
       "      <td>87</td>\n",
       "      <td>H</td>\n",
       "      <td>0</td>\n",
       "    </tr>\n",
       "  </tbody>\n",
       "</table>\n",
       "</div>"
      ],
      "text/plain": [
       "       Season  Daynum  Wteam  Wscore  Lteam  Lscore Wloc  Numot\n",
       "5269     1986      75   1258     151   1109     107    H      0\n",
       "12046    1988      40   1328     152   1147      84    H      0\n",
       "12355    1988      52   1328     151   1173      99    N      0\n",
       "16040    1989      40   1328     152   1331     122    H      0\n",
       "16853    1989      68   1258     162   1109     144    A      0\n",
       "17867    1989      92   1258     181   1109     150    H      0\n",
       "19653    1990      30   1328     173   1109     101    H      0\n",
       "19971    1990      38   1258     152   1109     137    A      0\n",
       "20022    1990      40   1116     166   1109     101    H      0\n",
       "22145    1990      97   1258     157   1362     115    H      0\n",
       "23582    1991      26   1318     152   1258     123    N      0\n",
       "24341    1991      47   1328     172   1258     112    H      0\n",
       "24970    1991      68   1258     186   1109     140    H      0\n",
       "25656    1991      84   1106     151   1212      97    H      0\n",
       "28687    1992      54   1261     159   1319      86    H      0\n",
       "35023    1993     112   1380     155   1341      91    A      0\n",
       "40060    1995      32   1375     156   1341     114    H      0\n",
       "52600    1998      33   1395     153   1410      87    H      0"
      ]
     },
     "execution_count": 22,
     "metadata": {},
     "output_type": "execute_result"
    }
   ],
   "source": [
    "df[df['Wscore'] > 150]"
   ]
  },
  {
   "cell_type": "markdown",
   "metadata": {},
   "source": [
    "This also works if you have multiple conditions. Let's say we want to find out when the winning team scores more than 150 points and when the losing team scores below 100. "
   ]
  },
  {
   "cell_type": "code",
   "execution_count": 23,
   "metadata": {},
   "outputs": [
    {
     "data": {
      "text/html": [
       "<div>\n",
       "<style>\n",
       "    .dataframe thead tr:only-child th {\n",
       "        text-align: right;\n",
       "    }\n",
       "\n",
       "    .dataframe thead th {\n",
       "        text-align: left;\n",
       "    }\n",
       "\n",
       "    .dataframe tbody tr th {\n",
       "        vertical-align: top;\n",
       "    }\n",
       "</style>\n",
       "<table border=\"1\" class=\"dataframe\">\n",
       "  <thead>\n",
       "    <tr style=\"text-align: right;\">\n",
       "      <th></th>\n",
       "      <th>Season</th>\n",
       "      <th>Daynum</th>\n",
       "      <th>Wteam</th>\n",
       "      <th>Wscore</th>\n",
       "      <th>Lteam</th>\n",
       "      <th>Lscore</th>\n",
       "      <th>Wloc</th>\n",
       "      <th>Numot</th>\n",
       "    </tr>\n",
       "  </thead>\n",
       "  <tbody>\n",
       "    <tr>\n",
       "      <th>12046</th>\n",
       "      <td>1988</td>\n",
       "      <td>40</td>\n",
       "      <td>1328</td>\n",
       "      <td>152</td>\n",
       "      <td>1147</td>\n",
       "      <td>84</td>\n",
       "      <td>H</td>\n",
       "      <td>0</td>\n",
       "    </tr>\n",
       "    <tr>\n",
       "      <th>12355</th>\n",
       "      <td>1988</td>\n",
       "      <td>52</td>\n",
       "      <td>1328</td>\n",
       "      <td>151</td>\n",
       "      <td>1173</td>\n",
       "      <td>99</td>\n",
       "      <td>N</td>\n",
       "      <td>0</td>\n",
       "    </tr>\n",
       "    <tr>\n",
       "      <th>25656</th>\n",
       "      <td>1991</td>\n",
       "      <td>84</td>\n",
       "      <td>1106</td>\n",
       "      <td>151</td>\n",
       "      <td>1212</td>\n",
       "      <td>97</td>\n",
       "      <td>H</td>\n",
       "      <td>0</td>\n",
       "    </tr>\n",
       "    <tr>\n",
       "      <th>28687</th>\n",
       "      <td>1992</td>\n",
       "      <td>54</td>\n",
       "      <td>1261</td>\n",
       "      <td>159</td>\n",
       "      <td>1319</td>\n",
       "      <td>86</td>\n",
       "      <td>H</td>\n",
       "      <td>0</td>\n",
       "    </tr>\n",
       "    <tr>\n",
       "      <th>35023</th>\n",
       "      <td>1993</td>\n",
       "      <td>112</td>\n",
       "      <td>1380</td>\n",
       "      <td>155</td>\n",
       "      <td>1341</td>\n",
       "      <td>91</td>\n",
       "      <td>A</td>\n",
       "      <td>0</td>\n",
       "    </tr>\n",
       "    <tr>\n",
       "      <th>52600</th>\n",
       "      <td>1998</td>\n",
       "      <td>33</td>\n",
       "      <td>1395</td>\n",
       "      <td>153</td>\n",
       "      <td>1410</td>\n",
       "      <td>87</td>\n",
       "      <td>H</td>\n",
       "      <td>0</td>\n",
       "    </tr>\n",
       "  </tbody>\n",
       "</table>\n",
       "</div>"
      ],
      "text/plain": [
       "       Season  Daynum  Wteam  Wscore  Lteam  Lscore Wloc  Numot\n",
       "12046    1988      40   1328     152   1147      84    H      0\n",
       "12355    1988      52   1328     151   1173      99    N      0\n",
       "25656    1991      84   1106     151   1212      97    H      0\n",
       "28687    1992      54   1261     159   1319      86    H      0\n",
       "35023    1993     112   1380     155   1341      91    A      0\n",
       "52600    1998      33   1395     153   1410      87    H      0"
      ]
     },
     "execution_count": 23,
     "metadata": {},
     "output_type": "execute_result"
    }
   ],
   "source": [
    "df[(df['Wscore'] > 150) & (df['Lscore'] < 100)]"
   ]
  },
  {
   "cell_type": "markdown",
   "metadata": {},
   "source": [
    "# Extracting Rows and Columns"
   ]
  },
  {
   "cell_type": "markdown",
   "metadata": {},
   "source": [
    "The bracket indexing operator is one way to extract certain columns from a dataframe."
   ]
  },
  {
   "cell_type": "code",
   "execution_count": 24,
   "metadata": {
    "scrolled": true
   },
   "outputs": [
    {
     "data": {
      "text/html": [
       "<div>\n",
       "<style>\n",
       "    .dataframe thead tr:only-child th {\n",
       "        text-align: right;\n",
       "    }\n",
       "\n",
       "    .dataframe thead th {\n",
       "        text-align: left;\n",
       "    }\n",
       "\n",
       "    .dataframe tbody tr th {\n",
       "        vertical-align: top;\n",
       "    }\n",
       "</style>\n",
       "<table border=\"1\" class=\"dataframe\">\n",
       "  <thead>\n",
       "    <tr style=\"text-align: right;\">\n",
       "      <th></th>\n",
       "      <th>Wscore</th>\n",
       "      <th>Lscore</th>\n",
       "    </tr>\n",
       "  </thead>\n",
       "  <tbody>\n",
       "    <tr>\n",
       "      <th>0</th>\n",
       "      <td>81</td>\n",
       "      <td>64</td>\n",
       "    </tr>\n",
       "    <tr>\n",
       "      <th>1</th>\n",
       "      <td>77</td>\n",
       "      <td>70</td>\n",
       "    </tr>\n",
       "    <tr>\n",
       "      <th>2</th>\n",
       "      <td>63</td>\n",
       "      <td>56</td>\n",
       "    </tr>\n",
       "    <tr>\n",
       "      <th>3</th>\n",
       "      <td>70</td>\n",
       "      <td>54</td>\n",
       "    </tr>\n",
       "    <tr>\n",
       "      <th>4</th>\n",
       "      <td>86</td>\n",
       "      <td>74</td>\n",
       "    </tr>\n",
       "  </tbody>\n",
       "</table>\n",
       "</div>"
      ],
      "text/plain": [
       "   Wscore  Lscore\n",
       "0      81      64\n",
       "1      77      70\n",
       "2      63      56\n",
       "3      70      54\n",
       "4      86      74"
      ]
     },
     "execution_count": 24,
     "metadata": {},
     "output_type": "execute_result"
    }
   ],
   "source": [
    "df[['Wscore', 'Lscore']].head()"
   ]
  },
  {
   "cell_type": "markdown",
   "metadata": {},
   "source": [
    "You've seen before that you can access columns through df['col name']. You can access rows by using slicing operations. "
   ]
  },
  {
   "cell_type": "code",
   "execution_count": 25,
   "metadata": {},
   "outputs": [
    {
     "data": {
      "text/html": [
       "<div>\n",
       "<style>\n",
       "    .dataframe thead tr:only-child th {\n",
       "        text-align: right;\n",
       "    }\n",
       "\n",
       "    .dataframe thead th {\n",
       "        text-align: left;\n",
       "    }\n",
       "\n",
       "    .dataframe tbody tr th {\n",
       "        vertical-align: top;\n",
       "    }\n",
       "</style>\n",
       "<table border=\"1\" class=\"dataframe\">\n",
       "  <thead>\n",
       "    <tr style=\"text-align: right;\">\n",
       "      <th></th>\n",
       "      <th>Season</th>\n",
       "      <th>Daynum</th>\n",
       "      <th>Wteam</th>\n",
       "      <th>Wscore</th>\n",
       "      <th>Lteam</th>\n",
       "      <th>Lscore</th>\n",
       "      <th>Wloc</th>\n",
       "      <th>Numot</th>\n",
       "    </tr>\n",
       "  </thead>\n",
       "  <tbody>\n",
       "    <tr>\n",
       "      <th>0</th>\n",
       "      <td>1985</td>\n",
       "      <td>20</td>\n",
       "      <td>1228</td>\n",
       "      <td>81</td>\n",
       "      <td>1328</td>\n",
       "      <td>64</td>\n",
       "      <td>N</td>\n",
       "      <td>0</td>\n",
       "    </tr>\n",
       "    <tr>\n",
       "      <th>1</th>\n",
       "      <td>1985</td>\n",
       "      <td>25</td>\n",
       "      <td>1106</td>\n",
       "      <td>77</td>\n",
       "      <td>1354</td>\n",
       "      <td>70</td>\n",
       "      <td>H</td>\n",
       "      <td>0</td>\n",
       "    </tr>\n",
       "    <tr>\n",
       "      <th>2</th>\n",
       "      <td>1985</td>\n",
       "      <td>25</td>\n",
       "      <td>1112</td>\n",
       "      <td>63</td>\n",
       "      <td>1223</td>\n",
       "      <td>56</td>\n",
       "      <td>H</td>\n",
       "      <td>0</td>\n",
       "    </tr>\n",
       "  </tbody>\n",
       "</table>\n",
       "</div>"
      ],
      "text/plain": [
       "   Season  Daynum  Wteam  Wscore  Lteam  Lscore Wloc  Numot\n",
       "0    1985      20   1228      81   1328      64    N      0\n",
       "1    1985      25   1106      77   1354      70    H      0\n",
       "2    1985      25   1112      63   1223      56    H      0"
      ]
     },
     "execution_count": 25,
     "metadata": {},
     "output_type": "execute_result"
    }
   ],
   "source": [
    "df[0:3]"
   ]
  },
  {
   "cell_type": "markdown",
   "metadata": {},
   "source": [
    "# Data Cleaning"
   ]
  },
  {
   "cell_type": "markdown",
   "metadata": {},
   "source": [
    "One of the big jobs of doing well in Kaggle competitions is that of data cleaning. A lot of times, the CSV file you're given (especially like in the Titanic dataset), you'll have a lot of missing values in the dataset, which you have to identify. The following **isnull** function will figure out if there are any missing values in the dataframe, and will then sum up the total for each column. In this case, we have a pretty clean dataset."
   ]
  },
  {
   "cell_type": "code",
   "execution_count": 26,
   "metadata": {},
   "outputs": [
    {
     "data": {
      "text/plain": [
       "Season    0\n",
       "Daynum    0\n",
       "Wteam     0\n",
       "Wscore    0\n",
       "Lteam     0\n",
       "Lscore    0\n",
       "Wloc      0\n",
       "Numot     0\n",
       "dtype: int64"
      ]
     },
     "execution_count": 26,
     "metadata": {},
     "output_type": "execute_result"
    }
   ],
   "source": [
    "df.isnull().sum()"
   ]
  },
  {
   "cell_type": "markdown",
   "metadata": {},
   "source": [
    "If you do end up having missing values in your datasets, be sure to get familiar with these two functions. \n",
    "* **dropna()** - This function allows you to drop all(or some) of the rows that have missing values. \n",
    "* **fillna()** - This function allows you replace the rows that have missing values with the value that you pass in."
   ]
  },
  {
   "cell_type": "markdown",
   "metadata": {},
   "source": [
    "# Visualizing Data"
   ]
  },
  {
   "cell_type": "markdown",
   "metadata": {},
   "source": [
    "An interesting way of displaying Dataframes is through matplotlib. "
   ]
  },
  {
   "cell_type": "code",
   "execution_count": 27,
   "metadata": {
    "collapsed": true
   },
   "outputs": [],
   "source": [
    "import matplotlib.pyplot as plt\n",
    "%matplotlib inline"
   ]
  },
  {
   "cell_type": "code",
   "execution_count": 28,
   "metadata": {},
   "outputs": [
    {
     "data": {
      "text/plain": [
       "<matplotlib.text.Text at 0x22a1d5fb4a8>"
      ]
     },
     "execution_count": 28,
     "metadata": {},
     "output_type": "execute_result"
    },
    {
     "data": {
      "image/png": "[encoded data removed]",
      "text/plain": [
       "<matplotlib.figure.Figure at 0x22a1ad195c0>"
      ]
     },
     "metadata": {},
     "output_type": "display_data"
    }
   ],
   "source": [
    "ax = df['Wscore'].plot.hist(bins=20)\n",
    "ax.set_xlabel('Points for Winning Team')"
   ]
  },
  {
   "cell_type": "markdown",
   "metadata": {},
   "source": [
    "# Creating Kaggle Submission CSVs"
   ]
  },
  {
   "cell_type": "markdown",
   "metadata": {},
   "source": [
    "This isn't directly Pandas related, but I assume that most people who use Pandas probably do a lot of Kaggle competitions as well. As you probably know, Kaggle competitions require you to create a CSV of your predictions. Here's some starter code that can help you create that csv file"
   ]
  },
  {
   "cell_type": "code",
   "execution_count": 30,
   "metadata": {},
   "outputs": [
    {
     "name": "stdout",
     "output_type": "stream",
     "text": [
      "[[ 0 10]\n",
      " [ 1 15]\n",
      " [ 2 20]]\n"
     ]
    }
   ],
   "source": [
    "import numpy as np\n",
    "import csv\n",
    "\n",
    "results = [[0,10],[1,15],[2,20]]\n",
    "results = pd.np.array(results)\n",
    "print (results)"
   ]
  },
  {
   "cell_type": "code",
   "execution_count": 33,
   "metadata": {},
   "outputs": [],
   "source": [
    "firstRow = [['id', 'pred']]\n",
    "with open(\"result.csv\", \"w\") as f:\n",
    "    writer = csv.writer(f)\n",
    "    writer.writerows(firstRow)\n",
    "    writer.writerows(results)"
   ]
  },
  {
   "cell_type": "markdown",
   "metadata": {},
   "source": [
    "The approach described above deals more with python lists and numpy. If you want a purely Pandas based approach, take a look at this video: https://www.youtube.com/watch?v=ylRlGCtAtiE&list=PL5-da3qGB5ICCsgW1MxlZ0Hq8LL5U3u9y&index=22"
   ]
  },
  {
   "cell_type": "markdown",
   "metadata": {},
   "source": [
    "# Other Useful Functions"
   ]
  },
  {
   "cell_type": "markdown",
   "metadata": {},
   "source": [
    "* **drop()** - This function removes the column or row that you pass in (You also have the specify the axis). \n",
    "* **agg()** - The aggregate function lets you compute summary statistics about each group\n",
    "* **apply()** - Lets you apply a specific function to any/all elements in a Dataframe or Series\n",
    "* **get_dummies()** - Helpful for turning categorical data into one hot vectors.\n",
    "* **drop_duplicates()** - Lets you remove identical rows"
   ]
  },
  {
   "cell_type": "markdown",
   "metadata": {
    "collapsed": true
   },
   "source": [
    "# Lots of Other Great Resources"
   ]
  },
  {
   "cell_type": "markdown",
   "metadata": {},
   "source": [
    "Pandas has been around for a while and there are a lot of other good resources if you're still interested on getting the most out of this library. \n",
    "* http://pandas.pydata.org/pandas-docs/stable/10min.html\n",
    "* https://www.datacamp.com/community/tutorials/pandas-tutorial-dataframe-python\n",
    "* http://www.gregreda.com/2013/10/26/intro-to-pandas-data-structures/\n",
    "* https://www.dataquest.io/blog/pandas-python-tutorial/\n",
    "* https://drive.google.com/file/d/0ByIrJAE4KMTtTUtiVExiUGVkRkE/view\n",
    "* https://www.youtube.com/playlist?list=PL5-da3qGB5ICCsgW1MxlZ0Hq8LL5U3u9y"
   ]
  }
 ],
 "metadata": {
  "anaconda-cloud": {},
  "kernelspec": {
   "display_name": "Python 3",
   "language": "python",
   "name": "python3"
  },
  "language_info": {
   "codemirror_mode": {
    "name": "ipython",
    "version": 3
   },
   "file_extension": ".py",
   "mimetype": "text/x-python",
   "name": "python",
   "nbconvert_exporter": "python",
   "pygments_lexer": "ipython3",
   "version": "3.6.2"
  }
 },
 "nbformat": 4,
 "nbformat_minor": 1
}
